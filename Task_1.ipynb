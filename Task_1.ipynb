{
 "cells": [
  {
   "cell_type": "code",
   "execution_count": 6,
   "id": "8be6b72132543b94",
   "metadata": {
    "ExecuteTime": {
     "end_time": "2023-12-12T19:17:47.242923100Z",
     "start_time": "2023-12-12T19:17:47.234553Z"
    },
    "collapsed": false
   },
   "outputs": [],
   "source": [
    "## Import txt file\n",
    "import pandas as pd\n",
    "import numpy as np\n",
    "import os\n",
    "import re"
   ]
  },
  {
   "cell_type": "code",
   "execution_count": 7,
   "id": "74421bfba01876ae",
   "metadata": {
    "ExecuteTime": {
     "end_time": "2023-12-12T19:18:16.324776Z",
     "start_time": "2023-12-12T19:18:16.324268900Z"
    },
    "collapsed": false
   },
   "outputs": [],
   "source": [
    "curr_loc = os.getcwd()"
   ]
  },
  {
   "cell_type": "code",
   "execution_count": 8,
   "id": "dfc427e96d4ca4c7",
   "metadata": {
    "ExecuteTime": {
     "end_time": "2023-12-12T19:18:46.952995600Z",
     "start_time": "2023-12-12T19:18:46.951960600Z"
    },
    "collapsed": false
   },
   "outputs": [],
   "source": [
    "np_input = np.loadtxt(curr_loc+'/Task_1/input.txt', dtype='str')"
   ]
  },
  {
   "cell_type": "code",
   "execution_count": 16,
   "id": "25fbc1658e5a4907",
   "metadata": {
    "ExecuteTime": {
     "end_time": "2023-12-12T19:20:13.502836300Z",
     "start_time": "2023-12-12T19:20:13.494450300Z"
    },
    "collapsed": false
   },
   "outputs": [
    {
     "name": "stdout",
     "output_type": "stream",
     "text": [
      "22\n"
     ]
    }
   ],
   "source": [
    "cleaned_input = re.sub(r'\\D', '', np_input[0])\n",
    "print(str(cleaned_input[0])+str(cleaned_input[-1]))"
   ]
  },
  {
   "cell_type": "code",
   "execution_count": 18,
   "id": "b16ac8d26ebf55b1",
   "metadata": {
    "collapsed": false
   },
   "outputs": [],
   "source": [
    "ans = 0\n",
    "for val in np_input:\n",
    "    cleaned_input = re.sub(r'\\D', '', val)\n",
    "    ans_val = str(cleaned_input[0])+str(cleaned_input[-1])\n",
    "    ans += int(ans_val)"
   ]
  },
  {
   "cell_type": "code",
   "execution_count": 19,
   "id": "a80f9ead",
   "metadata": {},
   "outputs": [
    {
     "data": {
      "text/plain": [
       "55208"
      ]
     },
     "execution_count": 19,
     "metadata": {},
     "output_type": "execute_result"
    }
   ],
   "source": [
    "ans"
   ]
  },
  {
   "cell_type": "code",
   "execution_count": null,
   "id": "6fcb4a8d",
   "metadata": {},
   "outputs": [],
   "source": []
  }
 ],
 "metadata": {
  "kernelspec": {
   "display_name": "Python 3",
   "language": "python",
   "name": "python3"
  },
  "language_info": {
   "codemirror_mode": {
    "name": "ipython",
    "version": 3
   },
   "file_extension": ".py",
   "mimetype": "text/x-python",
   "name": "python",
   "nbconvert_exporter": "python",
   "pygments_lexer": "ipython3",
   "version": "3.11.5"
  }
 },
 "nbformat": 4,
 "nbformat_minor": 5
}
