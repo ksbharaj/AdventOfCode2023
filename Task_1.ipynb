{
 "cells": [
  {
   "cell_type": "code",
   "execution_count": 204,
   "id": "8be6b72132543b94",
   "metadata": {
    "ExecuteTime": {
     "end_time": "2023-12-12T19:17:47.242923100Z",
     "start_time": "2023-12-12T19:17:47.234553Z"
    },
    "collapsed": false
   },
   "outputs": [],
   "source": [
    "## Import txt file\n",
    "import numpy as np\n",
    "import os\n",
    "import re"
   ]
  },
  {
   "cell_type": "markdown",
   "id": "77093366",
   "metadata": {},
   "source": [
    "# Part 1"
   ]
  },
  {
   "cell_type": "code",
   "execution_count": 205,
   "id": "74421bfba01876ae",
   "metadata": {
    "ExecuteTime": {
     "end_time": "2023-12-12T19:18:16.324776Z",
     "start_time": "2023-12-12T19:18:16.324268900Z"
    },
    "collapsed": false
   },
   "outputs": [],
   "source": [
    "curr_loc = os.getcwd()"
   ]
  },
  {
   "cell_type": "code",
   "execution_count": 206,
   "id": "dfc427e96d4ca4c7",
   "metadata": {
    "ExecuteTime": {
     "end_time": "2023-12-12T19:18:46.952995600Z",
     "start_time": "2023-12-12T19:18:46.951960600Z"
    },
    "collapsed": false
   },
   "outputs": [],
   "source": [
    "np_input = np.loadtxt(curr_loc+'/Task_1/input.txt', dtype='str')"
   ]
  },
  {
   "cell_type": "code",
   "execution_count": 207,
   "id": "b16ac8d26ebf55b1",
   "metadata": {
    "collapsed": false
   },
   "outputs": [],
   "source": [
    "ans = 0\n",
    "for val in np_input:\n",
    "    cleaned_input = re.sub(r'\\D', '', val)\n",
    "    ans_val = str(cleaned_input[0])+str(cleaned_input[-1])\n",
    "    ans += int(ans_val)"
   ]
  },
  {
   "cell_type": "code",
   "execution_count": 208,
   "id": "a80f9ead",
   "metadata": {},
   "outputs": [
    {
     "data": {
      "text/plain": [
       "55208"
      ]
     },
     "execution_count": 208,
     "metadata": {},
     "output_type": "execute_result"
    }
   ],
   "source": [
    "ans"
   ]
  },
  {
   "cell_type": "markdown",
   "id": "4cdf684b",
   "metadata": {},
   "source": [
    "# Part 2"
   ]
  },
  {
   "cell_type": "code",
   "execution_count": 209,
   "id": "6fcb4a8d",
   "metadata": {},
   "outputs": [],
   "source": [
    "mapper = ['one', 'two', 'three', 'four', 'five', 'six', 'seven', 'eight', 'nine']\n",
    "mapper = {s: str(i) for i, s in enumerate(mapper, start=1)}\n",
    "mapper.update({str(i): str(i) for i in range(1, 10)})"
   ]
  },
  {
   "cell_type": "code",
   "execution_count": 210,
   "id": "621fe71f",
   "metadata": {},
   "outputs": [],
   "source": [
    "ans = 0\n",
    "for val in np_input:\n",
    "    locations = {}\n",
    "    for key, value in mapper.items():\n",
    "        start = 0\n",
    "        while start < len(val):\n",
    "            start = val.find(key, start)\n",
    "            if start == -1:\n",
    "                break\n",
    "            locations[start] = value\n",
    "            start += len(key)\n",
    "    min_idx, max_idx = min(locations), max(locations)\n",
    "    ans += int((locations[min_idx]) + (locations[max_idx]))"
   ]
  },
  {
   "cell_type": "code",
   "execution_count": 211,
   "id": "fcd72fdf",
   "metadata": {},
   "outputs": [
    {
     "data": {
      "text/plain": [
       "54578"
      ]
     },
     "execution_count": 211,
     "metadata": {},
     "output_type": "execute_result"
    }
   ],
   "source": [
    "ans"
   ]
  },
  {
   "cell_type": "code",
   "execution_count": null,
   "id": "39298133",
   "metadata": {},
   "outputs": [],
   "source": []
  },
  {
   "cell_type": "code",
   "execution_count": null,
   "id": "34c844a3",
   "metadata": {},
   "outputs": [],
   "source": []
  }
 ],
 "metadata": {
  "kernelspec": {
   "display_name": "Python 3",
   "language": "python",
   "name": "python3"
  },
  "language_info": {
   "codemirror_mode": {
    "name": "ipython",
    "version": 3
   },
   "file_extension": ".py",
   "mimetype": "text/x-python",
   "name": "python",
   "nbconvert_exporter": "python",
   "pygments_lexer": "ipython3",
   "version": "3.11.5"
  }
 },
 "nbformat": 4,
 "nbformat_minor": 5
}
