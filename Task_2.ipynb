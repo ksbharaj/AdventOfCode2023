{
 "cells": [
  {
   "cell_type": "code",
   "execution_count": 159,
   "metadata": {},
   "outputs": [],
   "source": [
    "import numpy as np\n",
    "import os\n",
    "import re\n",
    "import pandas as pd"
   ]
  },
  {
   "cell_type": "code",
   "execution_count": 160,
   "metadata": {},
   "outputs": [],
   "source": [
    "curr_loc = os.getcwd()"
   ]
  },
  {
   "cell_type": "code",
   "execution_count": 161,
   "metadata": {},
   "outputs": [],
   "source": [
    "# np_input = np.loadtxt(curr_loc+'/Task_2/input.txt', dtype='str', usecols=[0,1,2,3])\n",
    "with open(curr_loc+'/Task_2/input.txt', 'r') as file:\n",
    "    content = file.read()\n",
    "content = content.split(\"\\n\")"
   ]
  },
  {
   "cell_type": "markdown",
   "metadata": {},
   "source": [
    "# Part 1"
   ]
  },
  {
   "cell_type": "code",
   "execution_count": 162,
   "metadata": {},
   "outputs": [
    {
     "data": {
      "text/plain": [
       "''"
      ]
     },
     "execution_count": 162,
     "metadata": {},
     "output_type": "execute_result"
    }
   ],
   "source": [
    "content.pop(-1)"
   ]
  },
  {
   "cell_type": "code",
   "execution_count": 181,
   "metadata": {},
   "outputs": [],
   "source": [
    "threshold = {\"red\":12, \"green\": 13, \"blue\":14}\n",
    "ans = 0\n",
    "\n",
    "for line in content:\n",
    "    game_no, sets = line.split(\": \")\n",
    "    sets = sets.split(\"; \")\n",
    "    set_bool = []\n",
    "    for settee in sets:\n",
    "        set_vals = {\"red\":0, \"green\":0, \"blue\":0}\n",
    "        for val in settee.split(\", \"):\n",
    "            num = re.sub(r'\\D', '', val.replace(\" \", \"\"))\n",
    "            color = re.sub(r'\\d', '', val.replace(\" \", \"\"))\n",
    "            set_vals[color] += int(num)\n",
    "        if threshold[\"red\"] >= set_vals[\"red\"] and threshold[\"green\"] >= set_vals[\"green\"] and \\\n",
    "        threshold[\"blue\"] >= set_vals[\"blue\"]:\n",
    "            set_bool.append(True)\n",
    "        else:\n",
    "            set_bool.append(False)\n",
    "    if False not in set_bool:\n",
    "        ans += (int(game_no.split(\" \")[-1]))"
   ]
  },
  {
   "cell_type": "code",
   "execution_count": 182,
   "metadata": {},
   "outputs": [
    {
     "data": {
      "text/plain": [
       "1853"
      ]
     },
     "execution_count": 182,
     "metadata": {},
     "output_type": "execute_result"
    }
   ],
   "source": [
    "ans"
   ]
  },
  {
   "cell_type": "markdown",
   "metadata": {},
   "source": [
    "# Part 2"
   ]
  },
  {
   "cell_type": "code",
   "execution_count": 177,
   "metadata": {},
   "outputs": [],
   "source": [
    "game_no, sets = content[0].split(\": \")"
   ]
  },
  {
   "cell_type": "code",
   "execution_count": 179,
   "metadata": {},
   "outputs": [],
   "source": [
    "sets = sets.split(\"; \")"
   ]
  },
  {
   "cell_type": "code",
   "execution_count": 212,
   "metadata": {},
   "outputs": [],
   "source": [
    "ans = 0\n",
    "\n",
    "for line in content:\n",
    "    game_no, sets = line.split(\": \")\n",
    "    sets = sets.split(\"; \")\n",
    "    set_vals = {\"red\":0, \"green\":0, \"blue\":0}\n",
    "    for settee in sets:\n",
    "        # print(settee)\n",
    "        for val in settee.split(\", \"):\n",
    "            num = re.sub(r'\\D', '', val.replace(\" \", \"\"))\n",
    "            color = re.sub(r'\\d', '', val.replace(\" \", \"\"))\n",
    "            # print(num, color)\n",
    "            if set_vals[color] < int(num):\n",
    "                set_vals[color] = int(num)\n",
    "    # print(set_vals)\n",
    "    # print(\"\")\n",
    "    contri = 1\n",
    "    for count in set_vals.values():\n",
    "        contri = contri*count\n",
    "    ans += contri"
   ]
  },
  {
   "cell_type": "code",
   "execution_count": 213,
   "metadata": {},
   "outputs": [
    {
     "data": {
      "text/plain": [
       "72706"
      ]
     },
     "execution_count": 213,
     "metadata": {},
     "output_type": "execute_result"
    }
   ],
   "source": [
    "ans"
   ]
  }
 ],
 "metadata": {
  "kernelspec": {
   "display_name": "footy",
   "language": "python",
   "name": "python3"
  },
  "language_info": {
   "codemirror_mode": {
    "name": "ipython",
    "version": 3
   },
   "file_extension": ".py",
   "mimetype": "text/x-python",
   "name": "python",
   "nbconvert_exporter": "python",
   "pygments_lexer": "ipython3",
   "version": "3.11.5"
  }
 },
 "nbformat": 4,
 "nbformat_minor": 2
}
