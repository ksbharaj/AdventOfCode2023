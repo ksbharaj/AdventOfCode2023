{
 "cells": [
  {
   "cell_type": "code",
   "execution_count": 72,
   "metadata": {},
   "outputs": [],
   "source": [
    "import numpy as np\n",
    "import os\n",
    "import re\n",
    "import pandas as pd\n",
    "import tqdm"
   ]
  },
  {
   "cell_type": "code",
   "execution_count": 115,
   "metadata": {},
   "outputs": [],
   "source": [
    "curr_loc = os.getcwd()"
   ]
  },
  {
   "cell_type": "code",
   "execution_count": 116,
   "metadata": {},
   "outputs": [],
   "source": [
    "with open(curr_loc+'/Task_3/input.txt', 'r') as file:\n",
    "    content = file.read()\n",
    "\n",
    "# Split each line into a list of characters\n",
    "lines = content.split('\\n')"
   ]
  },
  {
   "cell_type": "code",
   "execution_count": 117,
   "metadata": {},
   "outputs": [
    {
     "data": {
      "text/plain": [
       "''"
      ]
     },
     "execution_count": 117,
     "metadata": {},
     "output_type": "execute_result"
    }
   ],
   "source": [
    "lines.pop(-1)"
   ]
  },
  {
   "cell_type": "markdown",
   "metadata": {},
   "source": [
    "# Part 1"
   ]
  },
  {
   "cell_type": "code",
   "execution_count": 35,
   "metadata": {},
   "outputs": [],
   "source": [
    "y_len = len(lines)\n",
    "x_len = len(lines[0])"
   ]
  },
  {
   "cell_type": "code",
   "execution_count": 36,
   "metadata": {},
   "outputs": [],
   "source": [
    "directions = np.array([(-1, -1), (-1, 0), (-1, 1), (0, -1), (0, 1), (1, -1), (1, 0), (1, 1)])"
   ]
  },
  {
   "cell_type": "code",
   "execution_count": 37,
   "metadata": {},
   "outputs": [],
   "source": [
    "split_characters = [[char for char in line] for line in lines]"
   ]
  },
  {
   "cell_type": "code",
   "execution_count": 38,
   "metadata": {},
   "outputs": [],
   "source": [
    "def symbol_seeker(grid, x, y):\n",
    "    answer = False\n",
    "    for i in range((y_len)):\n",
    "        for j in range(x_len):\n",
    "            locas = [x,y] + directions\n",
    "            for loca in locas:\n",
    "                if loca[0] >= 0 and loca[0]<y_len:\n",
    "                    if loca[1] >= 0 and loca[1]<x_len:\n",
    "                        if grid[loca[0]][loca[1]] != '.' and not grid[loca[0]][loca[1]].isdigit():\n",
    "                            answer = True\n",
    "                            return answer"
   ]
  },
  {
   "cell_type": "code",
   "execution_count": 21,
   "metadata": {},
   "outputs": [
    {
     "name": "stderr",
     "output_type": "stream",
     "text": [
      "  0%|          | 0/10 [00:00<?, ?it/s]"
     ]
    },
    {
     "name": "stderr",
     "output_type": "stream",
     "text": [
      "100%|██████████| 10/10 [00:00<00:00, 545.33it/s]\n"
     ]
    }
   ],
   "source": [
    "tracker = []\n",
    "mapped = []\n",
    "total = 0\n",
    "for i in tqdm.tqdm(range((y_len))):\n",
    "    for j in range(x_len):\n",
    "        if [i,j] not in mapped:\n",
    "            if split_characters[i][j] != '.' and split_characters[i][j].isdigit():\n",
    "                try:\n",
    "                    next_char = split_characters[i][j+1]\n",
    "                    next_to_next_char = split_characters[i][j+2]\n",
    "                    if next_char.isdigit() and next_to_next_char.isdigit():\n",
    "                        if symbol_seeker(split_characters, i, j) or symbol_seeker(split_characters, i, j+1) or symbol_seeker(split_characters, i, j+2):\n",
    "                            # print(split_characters[i][j], split_characters[i][j+1], split_characters[i][j+2])\n",
    "                            # print('found a symbol')\n",
    "                            total += int(split_characters[i][j]+ split_characters[i][j+1]+ split_characters[i][j+2])\n",
    "                            mapped.append([i,j])\n",
    "                            mapped.append([i,j+1])\n",
    "                            mapped.append([i,j+2])\n",
    "                    elif next_char.isdigit() and not next_to_next_char.isdigit():\n",
    "                        if symbol_seeker(split_characters, i, j) or symbol_seeker(split_characters, i, j+1):\n",
    "                            # print(split_characters[i][j], split_characters[i][j+1])\n",
    "                            # print('found a symbol')\n",
    "                            total += int(split_characters[i][j]+ split_characters[i][j+1])\n",
    "                            mapped.append([i,j])\n",
    "                            mapped.append([i,j+1])\n",
    "                    else:\n",
    "                        if symbol_seeker(split_characters, i, j):\n",
    "                            # print(split_characters[i][j])\n",
    "                            # print('found a symbol')\n",
    "                            total += int(split_characters[i][j])\n",
    "                            mapped.append([i,j])    \n",
    "                except:\n",
    "                    pass\n",
    "            else:\n",
    "                pass"
   ]
  },
  {
   "cell_type": "code",
   "execution_count": 22,
   "metadata": {},
   "outputs": [
    {
     "data": {
      "text/plain": [
       "4361"
      ]
     },
     "execution_count": 22,
     "metadata": {},
     "output_type": "execute_result"
    }
   ],
   "source": [
    "total"
   ]
  },
  {
   "cell_type": "markdown",
   "metadata": {},
   "source": [
    "# Part 2"
   ]
  },
  {
   "cell_type": "code",
   "execution_count": 39,
   "metadata": {},
   "outputs": [],
   "source": [
    "y_len = len(lines)\n",
    "x_len = len(lines[0])"
   ]
  },
  {
   "cell_type": "code",
   "execution_count": 40,
   "metadata": {},
   "outputs": [],
   "source": [
    "directions = np.array([(-1, -1), (-1, 0), (-1, 1), (0, -1), (0, 1), (1, -1), (1, 0), (1, 1)])"
   ]
  },
  {
   "cell_type": "code",
   "execution_count": 41,
   "metadata": {},
   "outputs": [],
   "source": [
    "split_characters = [[char for char in line] for line in lines]"
   ]
  },
  {
   "cell_type": "code",
   "execution_count": null,
   "metadata": {},
   "outputs": [],
   "source": []
  },
  {
   "cell_type": "code",
   "execution_count": 122,
   "metadata": {},
   "outputs": [],
   "source": [
    "symbol_loc = []\n",
    "for i, line in enumerate(lines):\n",
    "    for j,c in enumerate(line):\n",
    "        if c == '*':\n",
    "            adj = []\n",
    "            for dir in directions:\n",
    "                val = 0\n",
    "                y, x = (i, j) + dir\n",
    "                if y>len(lines) or x>len(lines[0]) or y < 0 or x < 0 or (y,x) in symbol_loc: pass\n",
    "                else:\n",
    "                    if not lines[y][x].isdigit(): pass\n",
    "                    else:\n",
    "                        digits = lines[y][x]\n",
    "                        symbol_loc.append((y,x))\n",
    "                        lx = x - 1\n",
    "                        while lx >= 0:\n",
    "                            if not lines[y][lx].isdigit(): break\n",
    "                            else:\n",
    "                                digits = lines[y][lx] + digits\n",
    "                                symbol_loc.append((y,lx))\n",
    "                                lx -= 1\n",
    "                        rx = x + 1\n",
    "                        while rx < len(lines[0]):\n",
    "                            if not lines[y][rx].isdigit(): break\n",
    "                            else:\n",
    "                                digits = digits + lines[y][rx]\n",
    "                                symbol_loc.append((y,rx))\n",
    "                                rx += 1\n",
    "                    val = int(digits)\n",
    "                    adj.append(val)\n",
    "            adj = [x for x in adj if x > 0]\n",
    "            total += (adj[0]*adj[1] if len(adj)==2 else 0)                "
   ]
  },
  {
   "cell_type": "code",
   "execution_count": 123,
   "metadata": {},
   "outputs": [
    {
     "data": {
      "text/plain": [
       "87449461"
      ]
     },
     "execution_count": 123,
     "metadata": {},
     "output_type": "execute_result"
    }
   ],
   "source": [
    "total"
   ]
  },
  {
   "cell_type": "code",
   "execution_count": null,
   "metadata": {},
   "outputs": [],
   "source": []
  },
  {
   "cell_type": "code",
   "execution_count": null,
   "metadata": {},
   "outputs": [],
   "source": []
  },
  {
   "cell_type": "code",
   "execution_count": null,
   "metadata": {},
   "outputs": [],
   "source": []
  },
  {
   "cell_type": "code",
   "execution_count": null,
   "metadata": {},
   "outputs": [],
   "source": []
  },
  {
   "cell_type": "code",
   "execution_count": null,
   "metadata": {},
   "outputs": [],
   "source": []
  }
 ],
 "metadata": {
  "kernelspec": {
   "display_name": "footy",
   "language": "python",
   "name": "python3"
  },
  "language_info": {
   "codemirror_mode": {
    "name": "ipython",
    "version": 3
   },
   "file_extension": ".py",
   "mimetype": "text/x-python",
   "name": "python",
   "nbconvert_exporter": "python",
   "pygments_lexer": "ipython3",
   "version": "3.11.5"
  }
 },
 "nbformat": 4,
 "nbformat_minor": 2
}
