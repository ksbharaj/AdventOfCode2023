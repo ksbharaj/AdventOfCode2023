{
 "cells": [
  {
   "cell_type": "code",
   "execution_count": 1,
   "metadata": {},
   "outputs": [],
   "source": [
    "import numpy as np\n",
    "import os\n",
    "import re\n",
    "import pandas as pd\n",
    "import tqdm"
   ]
  },
  {
   "cell_type": "code",
   "execution_count": 2,
   "metadata": {},
   "outputs": [],
   "source": [
    "curr_loc = os.getcwd()"
   ]
  },
  {
   "cell_type": "code",
   "execution_count": 3,
   "metadata": {},
   "outputs": [],
   "source": [
    "with open(curr_loc+'/Task_3/input.txt', 'r') as file:\n",
    "    content = file.read()\n",
    "\n",
    "# Split each line into a list of characters\n",
    "lines = content.split('\\n')"
   ]
  },
  {
   "cell_type": "code",
   "execution_count": 4,
   "metadata": {},
   "outputs": [
    {
     "data": {
      "text/plain": [
       "''"
      ]
     },
     "execution_count": 4,
     "metadata": {},
     "output_type": "execute_result"
    }
   ],
   "source": [
    "lines.pop(-1)"
   ]
  },
  {
   "cell_type": "markdown",
   "metadata": {},
   "source": [
    "# Part 1"
   ]
  },
  {
   "cell_type": "code",
   "execution_count": 17,
   "metadata": {},
   "outputs": [],
   "source": [
    "y_len = len(lines)\n",
    "x_len = len(lines[0])"
   ]
  },
  {
   "cell_type": "code",
   "execution_count": 18,
   "metadata": {},
   "outputs": [],
   "source": [
    "directions = np.array([(-1, -1), (-1, 0), (-1, 1), (0, -1), (0, 1), (1, -1), (1, 0), (1, 1)])"
   ]
  },
  {
   "cell_type": "code",
   "execution_count": 19,
   "metadata": {},
   "outputs": [],
   "source": [
    "split_characters = [[char for char in line] for line in lines]"
   ]
  },
  {
   "cell_type": "code",
   "execution_count": 20,
   "metadata": {},
   "outputs": [],
   "source": [
    "def symbol_seeker(grid, x, y):\n",
    "    answer = False\n",
    "    for i in range((y_len)):\n",
    "        for j in range(x_len):\n",
    "            locas = [x,y] + directions\n",
    "            for loca in locas:\n",
    "                if loca[0] >= 0 and loca[0]<y_len:\n",
    "                    if loca[1] >= 0 and loca[1]<x_len:\n",
    "                        if grid[loca[0]][loca[1]] != '.' and not grid[loca[0]][loca[1]].isdigit():\n",
    "                            answer = True\n",
    "                            return answer"
   ]
  },
  {
   "cell_type": "code",
   "execution_count": 21,
   "metadata": {},
   "outputs": [
    {
     "name": "stderr",
     "output_type": "stream",
     "text": [
      "  0%|          | 0/10 [00:00<?, ?it/s]"
     ]
    },
    {
     "name": "stderr",
     "output_type": "stream",
     "text": [
      "100%|██████████| 10/10 [00:00<00:00, 545.33it/s]\n"
     ]
    }
   ],
   "source": [
    "tracker = []\n",
    "mapped = []\n",
    "total = 0\n",
    "for i in tqdm.tqdm(range((y_len))):\n",
    "    for j in range(x_len):\n",
    "        if [i,j] not in mapped:\n",
    "            if split_characters[i][j] != '.' and split_characters[i][j].isdigit():\n",
    "                try:\n",
    "                    next_char = split_characters[i][j+1]\n",
    "                    next_to_next_char = split_characters[i][j+2]\n",
    "                    if next_char.isdigit() and next_to_next_char.isdigit():\n",
    "                        if symbol_seeker(split_characters, i, j) or symbol_seeker(split_characters, i, j+1) or symbol_seeker(split_characters, i, j+2):\n",
    "                            # print(split_characters[i][j], split_characters[i][j+1], split_characters[i][j+2])\n",
    "                            # print('found a symbol')\n",
    "                            total += int(split_characters[i][j]+ split_characters[i][j+1]+ split_characters[i][j+2])\n",
    "                            mapped.append([i,j])\n",
    "                            mapped.append([i,j+1])\n",
    "                            mapped.append([i,j+2])\n",
    "                    elif next_char.isdigit() and not next_to_next_char.isdigit():\n",
    "                        if symbol_seeker(split_characters, i, j) or symbol_seeker(split_characters, i, j+1):\n",
    "                            # print(split_characters[i][j], split_characters[i][j+1])\n",
    "                            # print('found a symbol')\n",
    "                            total += int(split_characters[i][j]+ split_characters[i][j+1])\n",
    "                            mapped.append([i,j])\n",
    "                            mapped.append([i,j+1])\n",
    "                    else:\n",
    "                        if symbol_seeker(split_characters, i, j):\n",
    "                            # print(split_characters[i][j])\n",
    "                            # print('found a symbol')\n",
    "                            total += int(split_characters[i][j])\n",
    "                            mapped.append([i,j])    \n",
    "                except:\n",
    "                    pass\n",
    "            else:\n",
    "                pass"
   ]
  },
  {
   "cell_type": "code",
   "execution_count": 22,
   "metadata": {},
   "outputs": [
    {
     "data": {
      "text/plain": [
       "4361"
      ]
     },
     "execution_count": 22,
     "metadata": {},
     "output_type": "execute_result"
    }
   ],
   "source": [
    "total"
   ]
  },
  {
   "cell_type": "markdown",
   "metadata": {},
   "source": [
    "# Part 2"
   ]
  },
  {
   "cell_type": "code",
   "execution_count": 5,
   "metadata": {},
   "outputs": [],
   "source": [
    "y_len = len(lines)\n",
    "x_len = len(lines[0])"
   ]
  },
  {
   "cell_type": "code",
   "execution_count": 6,
   "metadata": {},
   "outputs": [],
   "source": [
    "directions = np.array([(-1, -1), (-1, 0), (-1, 1), (0, -1), (0, 1), (1, -1), (1, 0), (1, 1)])"
   ]
  },
  {
   "cell_type": "code",
   "execution_count": 7,
   "metadata": {},
   "outputs": [],
   "source": [
    "split_characters = [[char for char in line] for line in lines]"
   ]
  },
  {
   "cell_type": "code",
   "execution_count": 8,
   "metadata": {},
   "outputs": [],
   "source": [
    "def symbol_seeker(grid, x, y):\n",
    "    answer = False\n",
    "    for i in range((y_len)):\n",
    "        for j in range(x_len):\n",
    "            locas = [x,y] + directions\n",
    "            for loca in locas:\n",
    "                if loca[0] >= 0 and loca[0]<y_len:\n",
    "                    if loca[1] >= 0 and loca[1]<x_len:\n",
    "                        if grid[loca[0]][loca[1]] != '.' and not grid[loca[0]][loca[1]].isdigit():\n",
    "                            if grid[loca[0]][loca[1]] == '*':\n",
    "                                answer = True\n",
    "                                return answer, [loca[0], loca[1]]\n",
    "                            # answer = True\n",
    "                            # return answer"
   ]
  },
  {
   "cell_type": "code",
   "execution_count": 9,
   "metadata": {},
   "outputs": [
    {
     "name": "stderr",
     "output_type": "stream",
     "text": [
      "  0%|          | 0/140 [00:00<?, ?it/s]"
     ]
    },
    {
     "name": "stderr",
     "output_type": "stream",
     "text": [
      "100%|██████████| 140/140 [15:06<00:00,  6.48s/it]\n"
     ]
    }
   ],
   "source": [
    "tracker = []\n",
    "mapped = []\n",
    "symbol_loc = {} ## Put where the key is the [x,y] location and vlaue is the number\n",
    "total = 0\n",
    "for i in tqdm.tqdm(range((y_len))):\n",
    "    for j in range(x_len):\n",
    "        if [i,j] not in mapped:\n",
    "            if split_characters[i][j] != '.' and split_characters[i][j].isdigit():\n",
    "                try:\n",
    "                    next_char = split_characters[i][j+1]\n",
    "                    next_to_next_char = split_characters[i][j+2]\n",
    "                    if next_char.isdigit() and next_to_next_char.isdigit():\n",
    "                        if symbol_seeker(split_characters, i, j) or symbol_seeker(split_characters, i, j+1) or symbol_seeker(split_characters, i, j+2):\n",
    "                            val_1 = symbol_seeker(split_characters, i, j)\n",
    "                            val_2 = symbol_seeker(split_characters, i, j+1)\n",
    "                            val_3 = symbol_seeker(split_characters, i, j+2)\n",
    "                            to_be_added = []\n",
    "                            if val_1 != None:\n",
    "                                if val_1[1] not in to_be_added:\n",
    "                                    to_be_added.append(val_1[1])\n",
    "                            if val_2 != None:\n",
    "                                if val_2[1] not in to_be_added:\n",
    "                                    to_be_added.append(val_2[1])\n",
    "                            if val_3 != None:\n",
    "                                if val_3[1] not in to_be_added:\n",
    "                                    to_be_added.append(val_3[1])\n",
    "                            for loca in to_be_added:\n",
    "                                if tuple(loca) in symbol_loc.keys():\n",
    "                                    # print(int(split_characters[i][j]+ split_characters[i][j+1]+ split_characters[i][j+2]))\n",
    "                                    # print(\"JACKPOT\")\n",
    "                                    sum_1 = int(split_characters[i][j]+ split_characters[i][j+1]+ split_characters[i][j+2])\n",
    "                                    sum_2 = symbol_loc[tuple(loca)]\n",
    "                                    total += sum_1*sum_2\n",
    "                                else:\n",
    "                                    symbol_loc[tuple(loca)] = int(split_characters[i][j]+ split_characters[i][j+1]+ split_characters[i][j+2])\n",
    "                            mapped.append([i,j])\n",
    "                            mapped.append([i,j+1])\n",
    "                            mapped.append([i,j+2])\n",
    "                                    \n",
    "                    elif next_char.isdigit() and not next_to_next_char.isdigit():\n",
    "                        if symbol_seeker(split_characters, i, j) or symbol_seeker(split_characters, i, j+1):\n",
    "                            val_1 = symbol_seeker(split_characters, i, j)\n",
    "                            val_2 = symbol_seeker(split_characters, i, j+1)\n",
    "                            to_be_added = []\n",
    "                            if val_1 != None:\n",
    "                                if val_1[1] not in to_be_added:\n",
    "                                    to_be_added.append(val_1[1])\n",
    "                            if val_2 != None:\n",
    "                                if val_2[1] not in to_be_added:\n",
    "                                    to_be_added.append(val_2[1])\n",
    "                            for loca in to_be_added:\n",
    "                                if tuple(loca) in symbol_loc.keys():\n",
    "                                    # print(int(split_characters[i][j]+ split_characters[i][j+1]))\n",
    "                                    # print(\"JACKPOT\")\n",
    "                                    sum_1 = int(split_characters[i][j]+ split_characters[i][j+1])\n",
    "                                    sum_2 = symbol_loc[tuple(loca)]\n",
    "                                    total += sum_1*sum_2\n",
    "                                    mapped.append([i,j])\n",
    "                                    mapped.append([i,j+1])\n",
    "                                else:\n",
    "                                    symbol_loc[tuple(loca)] = int(split_characters[i][j]+ split_characters[i][j+1])\n",
    "                            mapped.append([i,j])\n",
    "                            mapped.append([i,j+1])\n",
    "                    else:\n",
    "                        if symbol_seeker(split_characters, i, j):\n",
    "                            val_1 = symbol_seeker(split_characters, i, j)\n",
    "                            to_be_added = []\n",
    "                            if val_1 != None:\n",
    "                                if val_1[1] not in to_be_added:\n",
    "                                    to_be_added.append(val_1[1])\n",
    "                            for loca in to_be_added:\n",
    "                                if tuple(loca) in symbol_loc.keys():\n",
    "                                    # print(int(split_characters[i][j]+ split_characters[i][j+1]))\n",
    "                                    # print(\"JACKPOT\")\n",
    "                                    sum_1 = int(split_characters[i][j]+ split_characters[i][j+1])\n",
    "                                    sum_2 = symbol_loc[tuple(loca)]\n",
    "                                    total += sum_1*sum_2\n",
    "                                    mapped.append([i,j])\n",
    "                                    mapped.append([i,j+1])\n",
    "                                else:\n",
    "                                    symbol_loc[tuple(loca)] = int(split_characters[i][j]+ split_characters[i][j+1])\n",
    "                            mapped.append([i,j])\n",
    "\n",
    "                except:\n",
    "                    pass\n",
    "            else:\n",
    "                pass"
   ]
  },
  {
   "cell_type": "code",
   "execution_count": 10,
   "metadata": {},
   "outputs": [
    {
     "data": {
      "text/plain": [
       "87434319"
      ]
     },
     "execution_count": 10,
     "metadata": {},
     "output_type": "execute_result"
    }
   ],
   "source": [
    "total"
   ]
  },
  {
   "cell_type": "code",
   "execution_count": 199,
   "metadata": {},
   "outputs": [
    {
     "data": {
      "text/plain": [
       "['467..114..',\n",
       " '...*......',\n",
       " '..35..633.',\n",
       " '......#...',\n",
       " '617*......',\n",
       " '.....+.58.',\n",
       " '..592.....',\n",
       " '......755.',\n",
       " '...$.*....',\n",
       " '.664.598..']"
      ]
     },
     "execution_count": 199,
     "metadata": {},
     "output_type": "execute_result"
    }
   ],
   "source": [
    "lines"
   ]
  },
  {
   "cell_type": "code",
   "execution_count": null,
   "metadata": {},
   "outputs": [],
   "source": []
  },
  {
   "cell_type": "code",
   "execution_count": 135,
   "metadata": {},
   "outputs": [
    {
     "ename": "IndexError",
     "evalue": "list index out of range",
     "output_type": "error",
     "traceback": [
      "\u001b[1;31m---------------------------------------------------------------------------\u001b[0m",
      "\u001b[1;31mIndexError\u001b[0m                                Traceback (most recent call last)",
      "Cell \u001b[1;32mIn[135], line 1\u001b[0m\n\u001b[1;32m----> 1\u001b[0m \u001b[38;5;28mint\u001b[39m(split_characters[i][j]\u001b[38;5;241m+\u001b[39m \u001b[43msplit_characters\u001b[49m\u001b[43m[\u001b[49m\u001b[43mi\u001b[49m\u001b[43m]\u001b[49m\u001b[43m[\u001b[49m\u001b[43mj\u001b[49m\u001b[38;5;241;43m+\u001b[39;49m\u001b[38;5;241;43m1\u001b[39;49m\u001b[43m]\u001b[49m\u001b[38;5;241m+\u001b[39m split_characters[i][j\u001b[38;5;241m+\u001b[39m\u001b[38;5;241m2\u001b[39m])\n",
      "\u001b[1;31mIndexError\u001b[0m: list index out of range"
     ]
    }
   ],
   "source": [
    "int(split_characters[i][j]+ split_characters[i][j+1]+ split_characters[i][j+2])"
   ]
  },
  {
   "cell_type": "code",
   "execution_count": null,
   "metadata": {},
   "outputs": [],
   "source": []
  },
  {
   "cell_type": "code",
   "execution_count": 129,
   "metadata": {},
   "outputs": [
    {
     "data": {
      "text/plain": [
       "['467..114..',\n",
       " '...*......',\n",
       " '..35..633.',\n",
       " '......#...',\n",
       " '617*......',\n",
       " '.....+.58.',\n",
       " '..592.....',\n",
       " '......755.',\n",
       " '...$.*....',\n",
       " '.664.598..']"
      ]
     },
     "execution_count": 129,
     "metadata": {},
     "output_type": "execute_result"
    }
   ],
   "source": [
    "lines"
   ]
  },
  {
   "cell_type": "code",
   "execution_count": null,
   "metadata": {},
   "outputs": [],
   "source": []
  },
  {
   "cell_type": "code",
   "execution_count": 99,
   "metadata": {},
   "outputs": [
    {
     "data": {
      "text/plain": [
       "{None}"
      ]
     },
     "execution_count": 99,
     "metadata": {},
     "output_type": "execute_result"
    }
   ],
   "source": [
    "set([symbol_seeker(split_characters, i, j), symbol_seeker(split_characters, i, j+1), symbol_seeker(split_characters, i, j+2)])"
   ]
  },
  {
   "cell_type": "code",
   "execution_count": 90,
   "metadata": {},
   "outputs": [
    {
     "data": {
      "text/plain": [
       "['467..114..',\n",
       " '...*......',\n",
       " '..35..633.',\n",
       " '......#...',\n",
       " '617*......',\n",
       " '.....+.58.',\n",
       " '..592.....',\n",
       " '......755.',\n",
       " '...$.*....',\n",
       " '.664.598..']"
      ]
     },
     "execution_count": 90,
     "metadata": {},
     "output_type": "execute_result"
    }
   ],
   "source": [
    "values = set([split_characters[i][j], split_characters[i][j+1], split_characters[i][j+2]])\n",
    "if len(values) == 1:\n",
    "    print(\"The value is:\", values.pop())\n",
    "else:\n",
    "    print(\"No unique value found.\")"
   ]
  },
  {
   "cell_type": "code",
   "execution_count": null,
   "metadata": {},
   "outputs": [],
   "source": []
  },
  {
   "cell_type": "code",
   "execution_count": null,
   "metadata": {},
   "outputs": [],
   "source": []
  },
  {
   "cell_type": "code",
   "execution_count": null,
   "metadata": {},
   "outputs": [],
   "source": []
  },
  {
   "cell_type": "code",
   "execution_count": null,
   "metadata": {},
   "outputs": [],
   "source": []
  },
  {
   "cell_type": "code",
   "execution_count": 39,
   "metadata": {},
   "outputs": [],
   "source": [
    "def number_seeker(grid, x, y):\n",
    "    answer = False\n",
    "    for i in range((y_len)):\n",
    "        for j in range(x_len):\n",
    "            locas = [x,y] + directions\n",
    "            for loca in locas:\n",
    "                if loca[0] >= 0 and loca[0]<y_len:\n",
    "                    if loca[1] >= 0 and loca[1]<x_len:\n",
    "                        if grid[loca[0]][loca[1]] != '.' and grid[loca[0]][loca[1]].isdigit():\n",
    "                            answer = True\n",
    "                            return answer, grid[loca[0]][loca[1]]"
   ]
  },
  {
   "cell_type": "code",
   "execution_count": 40,
   "metadata": {},
   "outputs": [
    {
     "name": "stderr",
     "output_type": "stream",
     "text": [
      "100%|██████████| 10/10 [00:00<?, ?it/s]"
     ]
    },
    {
     "name": "stdout",
     "output_type": "stream",
     "text": [
      "*\n",
      "(True, '7')\n",
      "*\n",
      "(True, '7')\n",
      "*\n",
      "(True, '7')\n"
     ]
    },
    {
     "name": "stderr",
     "output_type": "stream",
     "text": [
      "\n"
     ]
    }
   ],
   "source": [
    "tracker = []\n",
    "mapped = []\n",
    "total = 0\n",
    "for i in tqdm.tqdm(range((y_len))):\n",
    "    for j in range(x_len):\n",
    "        if split_characters[i][j] != '.' and not split_characters[i][j].isdigit():\n",
    "            if split_characters[i][j] == '*':\n",
    "                print(split_characters[i][j])\n",
    "                print(number_seeker(split_characters, i, j))"
   ]
  },
  {
   "cell_type": "code",
   "execution_count": 41,
   "metadata": {},
   "outputs": [
    {
     "data": {
      "text/plain": [
       "['467..114..',\n",
       " '...*......',\n",
       " '..35..633.',\n",
       " '......#...',\n",
       " '617*......',\n",
       " '.....+.58.',\n",
       " '..592.....',\n",
       " '......755.',\n",
       " '...$.*....',\n",
       " '.664.598..']"
      ]
     },
     "execution_count": 41,
     "metadata": {},
     "output_type": "execute_result"
    }
   ],
   "source": [
    "lines"
   ]
  },
  {
   "cell_type": "code",
   "execution_count": null,
   "metadata": {},
   "outputs": [],
   "source": []
  }
 ],
 "metadata": {
  "kernelspec": {
   "display_name": "footy",
   "language": "python",
   "name": "python3"
  },
  "language_info": {
   "codemirror_mode": {
    "name": "ipython",
    "version": 3
   },
   "file_extension": ".py",
   "mimetype": "text/x-python",
   "name": "python",
   "nbconvert_exporter": "python",
   "pygments_lexer": "ipython3",
   "version": "3.11.5"
  }
 },
 "nbformat": 4,
 "nbformat_minor": 2
}
